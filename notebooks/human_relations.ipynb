{
 "cells": [
  {
   "cell_type": "code",
   "execution_count": null,
   "id": "0",
   "metadata": {},
   "outputs": [],
   "source": [
    "%reload_ext autoreload\n",
    "%autoreload 2\n",
    "\n",
    "import sys\n",
    "import os\n",
    "\n",
    "# Add the parent directory to the path\n",
    "sys.path.append(os.path.join(os.getcwd(), \"..\"))\n",
    "\n",
    "from calculate.calc import get_site_dfs, load_dfs\n",
    "\n",
    "import polars as pl\n",
    "from polars import col"
   ]
  },
  {
   "cell_type": "code",
   "execution_count": null,
   "id": "1",
   "metadata": {},
   "outputs": [],
   "source": [
    "(\n",
    "    joinyears,\n",
    "    df_users,\n",
    "    df_users_registered,\n",
    "    df_posts_all,\n",
    "    df_comments_all,\n",
    "    df_activity_all,\n",
    ") = load_dfs(\"../infodump\")\n",
    "\n",
    "df_months, df_posts, df_comments, df_activity = get_site_dfs(\n",
    "    \"askme\", df_posts_all, df_comments_all, df_activity_all\n",
    ")"
   ]
  },
  {
   "cell_type": "code",
   "execution_count": null,
   "id": "2",
   "metadata": {},
   "outputs": [],
   "source": [
    "df_posts"
   ]
  },
  {
   "cell_type": "code",
   "execution_count": null,
   "id": "3",
   "metadata": {},
   "outputs": [],
   "source": [
    "df_human_relations = (\n",
    "    df_months.join(\n",
    "        df_posts.select(\"month\", \"category\"), on=\"month\", how=\"left\", coalesce=True\n",
    "    )\n",
    "    .group_by(\"month\")\n",
    "    .agg(pl.len(), (col(\"category\") == 14).sum().alias(\"hr\"))\n",
    "    .with_columns(hr_pc=col(\"hr\") / col(\"len\"))\n",
    "    .with_columns(\n",
    "        rolling_hr=col(\"hr\").rolling_mean_by(\"month\", window_size=\"12mo\").round(0),\n",
    "        rolling_hr_pc=col(\"hr_pc\").rolling_mean_by(\"month\", window_size=\"12mo\"),\n",
    "    )\n",
    ")\n",
    "\n",
    "df_human_relations"
   ]
  },
  {
   "cell_type": "code",
   "execution_count": null,
   "id": "4",
   "metadata": {},
   "outputs": [],
   "source": [
    "chart = (\n",
    "    df_human_relations.plot.line(\n",
    "        x=\"month\",\n",
    "        y=\"rolling_hr_pc\",\n",
    "    )\n",
    "    .properties(\n",
    "        title=\"Proportion of Human Relations questions on Ask MetaFilter (12-month rolling average)\",\n",
    "    )\n",
    "    .configure_axisY(format=\"%\")\n",
    ")\n",
    "chart\n"
   ]
  }
 ],
 "metadata": {
  "kernelspec": {
   "display_name": ".env-notebook",
   "language": "python",
   "name": "python3"
  },
  "language_info": {
   "codemirror_mode": {
    "name": "ipython",
    "version": 3
   },
   "file_extension": ".py",
   "mimetype": "text/x-python",
   "name": "python",
   "nbconvert_exporter": "python",
   "pygments_lexer": "ipython3",
   "version": "3.11.2"
  }
 },
 "nbformat": 4,
 "nbformat_minor": 5
}

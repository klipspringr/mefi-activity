{
 "cells": [
  {
   "cell_type": "code",
   "execution_count": null,
   "metadata": {},
   "outputs": [],
   "source": [
    "%reload_ext autoreload\n",
    "%autoreload 2\n",
    "\n",
    "import datetime\n",
    "import polars as pl\n",
    "from polars import col\n",
    "\n",
    "from calc import load_dfs\n",
    "\n",
    "ANONYMOUS_USERID = 17564\n",
    "\n",
    "(\n",
    "    joinyears,\n",
    "    df_users,\n",
    "    df_users_registered,\n",
    "    df_posts_all,\n",
    "    df_comments_all,\n",
    "    df_activity_all,\n",
    ") = load_dfs(\"../infodump\")"
   ]
  },
  {
   "cell_type": "code",
   "execution_count": null,
   "metadata": {},
   "outputs": [],
   "source": [
    "from private.mungings import MUNGED_USERNAMES, MUNGED_USERS_NOT_WIPED\n",
    "\n",
    "\n",
    "df_munged_users_not_wiped = pl.DataFrame(\n",
    "    MUNGED_USERS_NOT_WIPED,\n",
    "    schema={\"userid\": pl.Int64},\n",
    "    orient=\"row\",\n",
    ")\n",
    "\n",
    "df_munged_usernames = pl.DataFrame(\n",
    "    MUNGED_USERNAMES,\n",
    "    schema={\"userid\": pl.Int64, \"name\": pl.String},\n",
    "    orient=\"row\",\n",
    ")\n",
    "\n",
    "# https://mefiwiki.com/wiki/Infodump#Userid_munging\n",
    "df_munged_users = (\n",
    "    df_users.filter(col(\"userid\") >= 1_000_000)\n",
    "    .join(df_munged_users_not_wiped, on=\"userid\", how=\"anti\")\n",
    "    .join(df_munged_usernames, on=\"userid\", how=\"left\")\n",
    "    .sort(\"userid\")\n",
    "    .select(\"userid\", name=pl.coalesce(\"name\", \"name_right\"))\n",
    ")\n",
    "\n",
    "df_munged_users"
   ]
  },
  {
   "cell_type": "code",
   "execution_count": null,
   "metadata": {},
   "outputs": [],
   "source": [
    "df_users_with_posts_deleted_by_closer = (\n",
    "    df_posts_all.filter(col(\"reason\").str.contains(\"user/344145\"))\n",
    "    .select(\"userid\")\n",
    "    .unique()\n",
    "    .filter(col(\"userid\") != ANONYMOUS_USERID)\n",
    "    .join(df_users, on=\"userid\")\n",
    "    .select(\"userid\", \"name\")\n",
    ")\n",
    "\n",
    "df_users_with_posts_deleted_by_closer"
   ]
  },
  {
   "cell_type": "code",
   "execution_count": null,
   "metadata": {},
   "outputs": [],
   "source": [
    "df_wiped_users = (\n",
    "    pl.concat([df_munged_users, df_users_with_posts_deleted_by_closer])\n",
    "    .unique(\"userid\")\n",
    "    .join(df_users, on=\"userid\")\n",
    "    .select(\"userid\", \"name\")\n",
    "    .sort(\"userid\")\n",
    ")\n",
    "\n",
    "df_wiped_users"
   ]
  },
  {
   "cell_type": "code",
   "execution_count": null,
   "metadata": {},
   "outputs": [],
   "source": [
    "df_posts_by_wiped_users = (\n",
    "    df_posts_all.join(df_wiped_users, on=\"userid\")\n",
    "    .filter(\n",
    "        col(\"reason\").str.contains(\"(?i)Poster's request\")\n",
    "    )  # select posts deleted because of wipe (we don't want everyday deletions)\n",
    "    .sort(\"datestamp\")\n",
    "    .drop(\"category\", \"month\")\n",
    ")\n",
    "\n",
    "df_posts_by_wiped_users"
   ]
  },
  {
   "cell_type": "code",
   "execution_count": null,
   "metadata": {},
   "outputs": [],
   "source": [
    "# check >=2020 posts by munged IDs (tkolar comment)\n",
    "\n",
    "display(\n",
    "    df_posts_by_wiped_users.filter(\n",
    "        (col(\"datestamp\") >= datetime.date(2020, 1, 1)) & (col(\"userid\") > 1_000_000)\n",
    "    )\n",
    ")"
   ]
  },
  {
   "cell_type": "code",
   "execution_count": null,
   "metadata": {},
   "outputs": [],
   "source": [
    "df_posts_by_wiped_users_agg = (\n",
    "    df_posts_by_wiped_users.group_by(\"userid\")\n",
    "    .agg(\n",
    "        pl.first(\"name\"),\n",
    "        pl.len().alias(\"posts\"),\n",
    "    )\n",
    "    .sort(\"posts\", descending=True)\n",
    ")\n",
    "\n",
    "# this df contains 57 users, versus 60 in df_wiped_users (August 2025).\n",
    "# the 3 missing users made one post each and it was deleted for everyday, non-wipe reasons.\n",
    "\n",
    "df_posts_by_wiped_users_agg"
   ]
  },
  {
   "cell_type": "code",
   "execution_count": null,
   "metadata": {},
   "outputs": [],
   "source": [
    "df_posts_by_wiped_users.select(\"comments\", \"favorites\").sum()"
   ]
  },
  {
   "cell_type": "code",
   "execution_count": null,
   "metadata": {},
   "outputs": [],
   "source": [
    "# posts by Anonymous outside AskMe must (?) be wiped users, using Rhaomi's new approach.\n",
    "# ignoring AskMe: no way to distinguish wipes from normal Anonymous questions.\n",
    "df_anonymised_posts = (\n",
    "    df_posts_all.filter(\n",
    "        (col(\"userid\") == ANONYMOUS_USERID)\n",
    "        & (col(\"site\") != \"askme\")\n",
    "        & (col(\"deleted\") != 1)\n",
    "        & (col(\"deleted\") != 3)\n",
    "    )\n",
    "    .sort(\"datestamp\")\n",
    "    .drop(\"category\", \"month\")\n",
    ")\n",
    "\n",
    "df_anonymised_posts"
   ]
  },
  {
   "cell_type": "code",
   "execution_count": null,
   "metadata": {},
   "outputs": [],
   "source": [
    "display(df_anonymised_posts.group_by(\"site\").agg(pl.len()).sort(\"len\", descending=True))"
   ]
  },
  {
   "cell_type": "code",
   "execution_count": null,
   "metadata": {},
   "outputs": [],
   "source": [
    "df_anonymised_comments = (\n",
    "    df_comments_all.filter(\n",
    "        (col(\"userid\") == ANONYMOUS_USERID) & (col(\"site\") != \"askme\")\n",
    "    )\n",
    "    .sort(\"datestamp\")\n",
    "    .drop(\"month\")\n",
    ")\n",
    "\n",
    "df_anonymised_comments"
   ]
  },
  {
   "cell_type": "code",
   "execution_count": null,
   "metadata": {},
   "outputs": [],
   "source": [
    "display(\n",
    "    df_anonymised_comments.group_by(\"site\").agg(pl.len()).sort(\"len\", descending=True)\n",
    ")"
   ]
  }
 ],
 "metadata": {
  "kernelspec": {
   "display_name": ".env-notebook",
   "language": "python",
   "name": "python3"
  },
  "language_info": {
   "codemirror_mode": {
    "name": "ipython",
    "version": 3
   },
   "file_extension": ".py",
   "mimetype": "text/x-python",
   "name": "python",
   "nbconvert_exporter": "python",
   "pygments_lexer": "ipython3",
   "version": "3.11.2"
  }
 },
 "nbformat": 4,
 "nbformat_minor": 2
}

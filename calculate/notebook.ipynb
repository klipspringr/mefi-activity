{
 "cells": [
  {
   "cell_type": "code",
   "execution_count": null,
   "metadata": {},
   "outputs": [],
   "source": [
    "%reload_ext autoreload\n",
    "%autoreload 2\n",
    "\n",
    "from calculate import get_site_dfs, load_dfs\n",
    "\n",
    "(\n",
    "    joinyears,\n",
    "    df_users,\n",
    "    df_users_registered,\n",
    "    df_posts_all,\n",
    "    df_comments_all,\n",
    "    df_activity_all,\n",
    ") = load_dfs(\"../infodump\")\n",
    "\n",
    "df_months, df_posts, df_comments, df_activity = get_site_dfs(\n",
    "    \"all\", df_posts_all, df_comments_all, df_activity_all\n",
    ")"
   ]
  }
 ],
 "metadata": {
  "kernelspec": {
   "display_name": ".env-notebook",
   "language": "python",
   "name": "python3"
  },
  "language_info": {
   "codemirror_mode": {
    "name": "ipython",
    "version": 3
   },
   "file_extension": ".py",
   "mimetype": "text/x-python",
   "name": "python",
   "nbconvert_exporter": "python",
   "pygments_lexer": "ipython3",
   "version": "3.11.2"
  }
 },
 "nbformat": 4,
 "nbformat_minor": 2
}

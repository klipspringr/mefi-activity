{
 "cells": [
  {
   "cell_type": "code",
   "execution_count": null,
   "metadata": {},
   "outputs": [],
   "source": [
    "%reload_ext autoreload\n",
    "%autoreload 2\n",
    "\n",
    "from parse import load_dfs, get_site_dfs\n",
    "\n",
    "import polars as pl\n",
    "from polars import col\n",
    "\n",
    "(\n",
    "    range_joinyears,\n",
    "    df_users,\n",
    "    df_users_registered_cum,\n",
    "    df_posts_all,\n",
    "    df_comments_all,\n",
    "    df_activity_all,\n",
    ") = load_dfs(\"../infodump\")\n",
    "\n",
    "SITE = \"all\"\n",
    "\n",
    "df_months, df_posts, df_comments, df_activity = get_site_dfs(\n",
    "    SITE, df_posts_all, df_comments_all, df_activity_all\n",
    ")"
   ]
  },
  {
   "cell_type": "code",
   "execution_count": null,
   "metadata": {},
   "outputs": [],
   "source": [
    "df_users_monthly = (\n",
    "    df_months.join(\n",
    "        df_activity.select(\"userid\", \"month\"),\n",
    "        on=\"month\",\n",
    "        how=\"left\",\n",
    "        coalesce=True,\n",
    "    )\n",
    "    .unique([\"userid\", \"month\"])\n",
    "    .sort(\"month\")\n",
    ")"
   ]
  },
  {
   "cell_type": "code",
   "execution_count": null,
   "metadata": {},
   "outputs": [],
   "source": [
    "df_users_monthly_unique = df_users_monthly.group_by(\"month\").agg(\n",
    "    col(\"userid\").n_unique()\n",
    ")\n",
    "df_users_monthly_unique"
   ]
  },
  {
   "cell_type": "code",
   "execution_count": null,
   "metadata": {},
   "outputs": [],
   "source": [
    "df_users_monthly_by_joined = (\n",
    "    df_users_monthly.join(\n",
    "        df_users.select(\"userid\", \"joinyear\"),\n",
    "        on=\"userid\",\n",
    "        how=\"left\",\n",
    "        coalesce=True,\n",
    "    )\n",
    "    .group_by(\"month\")\n",
    "    .agg(\n",
    "        (\n",
    "            col(\"joinyear\").filter(joinyear=year).count().alias(str(year))\n",
    "            for year in range_joinyears\n",
    "        ),\n",
    "    )\n",
    "    .drop(\"month\")\n",
    ")\n",
    "\n",
    "df_users_monthly_by_joined"
   ]
  },
  {
   "cell_type": "code",
   "execution_count": null,
   "metadata": {},
   "outputs": [],
   "source": [
    "# need to keep js AGE_LABELS in sync with this\n",
    "bins = [\n",
    "    0,\n",
    "    365,\n",
    "    365 * 5,\n",
    "    365 * 10,\n",
    "    365 * 15,\n",
    "    365 * 100,\n",
    "]\n",
    "\n",
    "df_activity_by_age = (\n",
    "    df_months.join(\n",
    "        df_activity.select(\"userid\", \"datestamp\", \"month\"),\n",
    "        on=\"month\",\n",
    "        how=\"left\",\n",
    "        coalesce=True,\n",
    "    )\n",
    "    .join(\n",
    "        df_users.select(\"userid\", \"joindate\"),\n",
    "        on=\"userid\",\n",
    "        how=\"left\",\n",
    "        coalesce=True,\n",
    "    )\n",
    "    .with_columns(age=(col(\"datestamp\") - col(\"joindate\")).dt.total_days())\n",
    "    .with_columns(\n",
    "        col(\"age\").is_between(bins[i], bins[i + 1], closed=\"left\").alias(str(i))\n",
    "        for i in range(len(bins) - 1)\n",
    "    )\n",
    "    .group_by(\"month\")\n",
    "    .agg(col(str(i)).sum() for i in range(len(bins) - 1))\n",
    "    .drop(\"month\")\n",
    ")\n",
    "\n",
    "df_activity_by_age"
   ]
  },
  {
   "cell_type": "code",
   "execution_count": null,
   "metadata": {},
   "outputs": [],
   "source": [
    "df_first_active = (\n",
    "    df_months.join(\n",
    "        df_activity.select(\"userid\", \"month\"),\n",
    "        on=\"month\",\n",
    "        how=\"left\",\n",
    "        coalesce=True,\n",
    "    )\n",
    "    .unique(\"userid\", keep=\"first\")\n",
    "    .sort(\"month\")\n",
    "    .group_by(\"month\")\n",
    "    .agg(col(\"userid\"))\n",
    ")\n",
    "\n",
    "df_first_active"
   ]
  },
  {
   "cell_type": "code",
   "execution_count": null,
   "metadata": {},
   "outputs": [],
   "source": [
    "df_users_new = df_months.join(\n",
    "    df_first_active, on=\"month\", how=\"left\", coalesce=True\n",
    ").select(\"month\", new=col(\"userid\").list.len())\n",
    "\n",
    "df_users_new"
   ]
  },
  {
   "cell_type": "code",
   "execution_count": null,
   "metadata": {},
   "outputs": [],
   "source": [
    "df_users_cum = df_users_new.select(\"month\", cum=col(\"new\").cum_sum())\n",
    "\n",
    "df_users_cum"
   ]
  },
  {
   "cell_type": "code",
   "execution_count": null,
   "metadata": {},
   "outputs": [],
   "source": [
    "df_posts_deleted = (df_months.join(\n",
    "        df_posts.select(\"month\", \"deleted\"),\n",
    "        on=\"month\",\n",
    "        how=\"left\",\n",
    "        coalesce=True,\n",
    "    )\n",
    "    .group_by(\"month\")\n",
    "    .agg(\n",
    "        col(\"deleted\").filter(col(\"deleted\").is_in([1, 3])).len()\n",
    "    )  # 1: deleted, 3: deleted and closed on Metatalk\n",
    ")\n",
    "\n",
    "df_posts_deleted"
   ]
  },
  {
   "cell_type": "code",
   "execution_count": null,
   "metadata": {},
   "outputs": [],
   "source": [
    "topN = [0.01, 0.05, 0.1]\n",
    "\n",
    "df_activity_by_top_users = (\n",
    "    df_months.join(\n",
    "        df_activity.select(\"month\", \"userid\"), on=\"month\", how=\"left\", coalesce=True\n",
    "    )\n",
    "    .group_by(\"month\")\n",
    "    .agg(\n",
    "        pl.len(),\n",
    "        col(\"userid\").unique_counts().alias(\"counts\").sort(descending=True),\n",
    "    )\n",
    "    .select(\n",
    "        (\n",
    "            col(\"counts\").list.head(col(\"counts\").list.len() * n).list.sum()\n",
    "            / col(\"len\")\n",
    "        ).alias(str(n))\n",
    "        for n in topN\n",
    "    )\n",
    "    .with_columns(\n",
    "        (col(str(topN[i])) - col(str(topN[i - 1]))) for i in range(1, len(topN))\n",
    "    )\n",
    "    .select(pl.all().round(3))\n",
    ")\n",
    "\n",
    "df_activity_by_top_users"
   ]
  }
 ],
 "metadata": {
  "kernelspec": {
   "display_name": ".python-env",
   "language": "python",
   "name": "python3"
  },
  "language_info": {
   "codemirror_mode": {
    "name": "ipython",
    "version": 3
   },
   "file_extension": ".py",
   "mimetype": "text/x-python",
   "name": "python",
   "nbconvert_exporter": "python",
   "pygments_lexer": "ipython3",
   "version": "3.11.2"
  }
 },
 "nbformat": 4,
 "nbformat_minor": 2
}

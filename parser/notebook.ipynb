{
 "cells": [
  {
   "cell_type": "code",
   "execution_count": null,
   "metadata": {},
   "outputs": [],
   "source": [
    "%reload_ext autoreload\n",
    "%autoreload 2\n",
    "\n",
    "from parse import load_dfs, get_site_dfs\n",
    "\n",
    "import polars as pl\n",
    "from polars import col\n",
    "\n",
    "(\n",
    "    range_joinyears,\n",
    "    df_users,\n",
    "    df_users_registered_cum,\n",
    "    df_posts_all,\n",
    "    df_comments_all,\n",
    "    df_activity_all,\n",
    ") = load_dfs(\"../infodump\")\n",
    "\n",
    "SITE = \"all\"\n",
    "\n",
    "df_months, df_posts, df_comments, df_activity = get_site_dfs(\n",
    "    SITE, df_posts_all, df_comments_all, df_activity_all\n",
    ")"
   ]
  },
  {
   "cell_type": "code",
   "execution_count": null,
   "metadata": {},
   "outputs": [],
   "source": [
    "df_users_monthly = (\n",
    "    df_months.join(df_activity, on=\"month\", how=\"left\", coalesce=True)\n",
    "    .unique([\"userid\", \"month\"])\n",
    "    .sort(\"month\")\n",
    ")"
   ]
  },
  {
   "cell_type": "code",
   "execution_count": null,
   "metadata": {},
   "outputs": [],
   "source": [
    "df_users_monthly.group_by(\"month\").agg(col(\"userid\").n_unique())"
   ]
  },
  {
   "cell_type": "code",
   "execution_count": null,
   "metadata": {},
   "outputs": [],
   "source": [
    "df_users_monthly_by_joined = (\n",
    "    df_users_monthly.join(\n",
    "        df_users.select(\"userid\", \"joinyear\"), on=\"userid\", how=\"left\", coalesce=True\n",
    "    )\n",
    "    .group_by(\"month\")\n",
    "    .agg(\n",
    "        (\n",
    "            col(\"joinyear\").filter(joinyear=year).count().alias(str(year))\n",
    "            for year in range_joinyears\n",
    "        ),\n",
    "        unknown=col(\"joinyear\").null_count(),\n",
    "    )\n",
    "    .drop(\"month\")\n",
    ")\n",
    "\n",
    "df_users_monthly_by_joined"
   ]
  },
  {
   "cell_type": "code",
   "execution_count": null,
   "metadata": {},
   "outputs": [],
   "source": [
    "bins = [\n",
    "    0,\n",
    "    365,\n",
    "    365 * 5,\n",
    "    365 * 10,\n",
    "    365 * 15,\n",
    "    365 * 100,\n",
    "]\n",
    "\n",
    "df_activity_by_age = (\n",
    "    df_months.join(df_activity, on=\"month\", how=\"left\", coalesce=True)\n",
    "    .join(\n",
    "        df_users.select(\"userid\", \"joindate\"),\n",
    "        on=\"userid\",\n",
    "        how=\"left\",\n",
    "        coalesce=True,\n",
    "    )\n",
    "    .with_columns(age=(col(\"datestamp\") - col(\"joindate\")).dt.total_days())\n",
    "    .with_columns(\n",
    "        col(\"age\").is_between(bins[i], bins[i + 1], closed=\"left\").alias(str(i))\n",
    "        for i in range(len(bins) - 1)\n",
    "    )\n",
    "    .group_by(\"month\")\n",
    "    .agg(col(str(i)).sum() for i in range(len(bins) - 1))\n",
    "    .drop(\"month\")\n",
    ")"
   ]
  },
  {
   "cell_type": "code",
   "execution_count": null,
   "metadata": {},
   "outputs": [],
   "source": [
    "df_first_active = (\n",
    "    df_months.join(df_activity, on=\"month\", how=\"left\", coalesce=True)\n",
    "    .unique(\"userid\", keep=\"first\")\n",
    "    .sort(\"month\")\n",
    "    .group_by(\"month\")\n",
    "    .agg(col(\"userid\"))\n",
    ")\n",
    "\n",
    "df_first_active"
   ]
  },
  {
   "cell_type": "code",
   "execution_count": null,
   "metadata": {},
   "outputs": [],
   "source": [
    "df_users_new = df_months.join(\n",
    "    df_first_active, on=\"month\", how=\"left\", coalesce=True\n",
    ").select(\"month\", new=col(\"userid\").list.len())\n",
    "\n",
    "df_users_new"
   ]
  },
  {
   "cell_type": "code",
   "execution_count": null,
   "metadata": {},
   "outputs": [],
   "source": [
    "df_users_cum = df_users_new.select(\"month\", cum=col(\"new\").cum_sum())\n",
    "\n",
    "df_users_cum"
   ]
  },
  {
   "cell_type": "code",
   "execution_count": null,
   "metadata": {},
   "outputs": [],
   "source": [
    "df_posts_deleted = (\n",
    "    df_months.join(df_posts, on=\"month\", how=\"left\", coalesce=True)\n",
    "    .group_by(\"month\")\n",
    "    .agg(col(\"deleted\").filter(col(\"deleted\").is_in([1, 3])).len())\n",
    ")\n",
    "\n",
    "df_posts_deleted"
   ]
  }
 ],
 "metadata": {
  "kernelspec": {
   "display_name": ".python-env",
   "language": "python",
   "name": "python3"
  },
  "language_info": {
   "codemirror_mode": {
    "name": "ipython",
    "version": 3
   },
   "file_extension": ".py",
   "mimetype": "text/x-python",
   "name": "python",
   "nbconvert_exporter": "python",
   "pygments_lexer": "ipython3",
   "version": "3.11.2"
  }
 },
 "nbformat": 4,
 "nbformat_minor": 2
}
